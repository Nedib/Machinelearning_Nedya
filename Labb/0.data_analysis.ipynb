{
 "cells": [
  {
   "cell_type": "markdown",
   "metadata": {},
   "source": [
    "# Cardio disease analys"
   ]
  },
  {
   "cell_type": "markdown",
   "metadata": {},
   "source": [
    "Analyses of data regarding smoking prevalence and its potential impact on heart diseases were conducted. Furthermore, the distribution of weight and its potential relationship with heart disease were explored, along with investigating gender-specific patterns in relation to heart disease. The objective was to identify effective models for classifying individuals as either positive or negative for heart disease based on given variables. Overall, the approach demonstrates a systematic and thorough analysis of the dataset, including data exploration, feature engineering, and data cleaning processes. Additionally, effective data visualization techniques were utilized to communicate insights and findings from the analysis."
   ]
  }
 ],
 "metadata": {
  "language_info": {
   "name": "python"
  }
 },
 "nbformat": 4,
 "nbformat_minor": 2
}
